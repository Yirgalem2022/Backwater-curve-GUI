{
 "cells": [
  {
   "cell_type": "code",
   "execution_count": 1,
   "id": "e211f973",
   "metadata": {},
   "outputs": [],
   "source": [
    "from bokeh.io import output_file, show         # io, input output\n",
    "from bokeh.layouts import widgetbox, row, column\n",
    "from bokeh.plotting import figure\n",
    "from bokeh.models.widgets import RadioButtonGroup,Select, Div, Button\n",
    "from bokeh.models import CustomJS, TextInput, Dropdown, Panel, Tabs\n",
    "button_group = RadioButtonGroup(labels=[\"Physical parameters\", \"Geometric parameters\", \"Initial  conditions\"], active=0)\n",
    "\n",
    "## Add the elements inside each radio button\n",
    "\n",
    "slope  = TextInput(value=\" \", title=\"slope:\")\n",
    "###### Drop down menus\n",
    "\n",
    "Coefficient = Select(title=\"Coefficient:\", value=\"chezy\", options=[\"Manning\", \"chezy\"])\n",
    "Coefficient_value1  = TextInput(value=\" \", title=\"chezy:\" )\n",
    "Coefficient_value2  = TextInput(value=\" \", title=\"Manning:\" )\n",
    "\n",
    "#### Add geometric parameters\n",
    "\n",
    "###show\n",
    "show(column(button_group,slope, Coefficient,Coefficient_value1, Coefficient_value2  ))"
   ]
  },
  {
   "cell_type": "code",
   "execution_count": null,
   "id": "e4cd1515",
   "metadata": {},
   "outputs": [],
   "source": []
  }
 ],
 "metadata": {
  "kernelspec": {
   "display_name": "Python 3 (ipykernel)",
   "language": "python",
   "name": "python3"
  },
  "language_info": {
   "codemirror_mode": {
    "name": "ipython",
    "version": 3
   },
   "file_extension": ".py",
   "mimetype": "text/x-python",
   "name": "python",
   "nbconvert_exporter": "python",
   "pygments_lexer": "ipython3",
   "version": "3.9.7"
  }
 },
 "nbformat": 4,
 "nbformat_minor": 5
}
